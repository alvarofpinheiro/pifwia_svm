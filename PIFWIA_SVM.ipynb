{
  "nbformat": 4,
  "nbformat_minor": 0,
  "metadata": {
    "colab": {
      "name": "PIFWIA_SVM.ipynb",
      "provenance": [],
      "collapsed_sections": [],
      "include_colab_link": true
    },
    "kernelspec": {
      "name": "python3",
      "display_name": "Python 3"
    }
  },
  "cells": [
    {
      "cell_type": "markdown",
      "metadata": {
        "id": "view-in-github",
        "colab_type": "text"
      },
      "source": [
        "<a href=\"https://colab.research.google.com/github/alvarofpinheiro/pifwia_svm/blob/main/PIFWIA_SVM.ipynb\" target=\"_parent\"><img src=\"https://colab.research.google.com/assets/colab-badge.svg\" alt=\"Open In Colab\"/></a>"
      ]
    },
    {
      "cell_type": "markdown",
      "source": [
        "Máquinas de vetor de suporte ou redes de vetor de suporte são técnicas de aprendizado supervisionado com algoritmos de aprendizado associados que analisam dados para classificação e regressão. São métodos de previsão robustos, baseados em aprendizagem estatística, onde dado um conjunto de exemplos de treinamento, cada um marcado como pertencente a uma das duas categorias, um algoritmo de treinamento SVM constrói um modelo que atribui novos exemplos a uma categoria ou outra, tornando-o um classificador linear binário não probabilístico, assim o SVM mapeia exemplos de treinamento para pontos no espaço para maximizar a largura da lacuna entre as duas categorias, dessa forma novos exemplos são mapeados nesse mesmo espaço e previstos para pertencer a uma categoria com base em qual lado da lacuna eles se enquadram.\n",
        "\n",
        "Cortes, C.; Vapnik, V.N. Support-vector networks. doi:https://link.springer.com/article/10.1007/BF00994018, 1995.\n"
      ],
      "metadata": {
        "id": "qcDXRnYVLL43"
      }
    },
    {
      "cell_type": "code",
      "metadata": {
        "id": "0P6tBY50QOHR"
      },
      "source": [
        "#instalar biblioteca Orange Canvas\n",
        "!pip install Orange3"
      ],
      "execution_count": null,
      "outputs": []
    },
    {
      "cell_type": "code",
      "source": [
        "#importar biblioteca Orange Canvas\n",
        "import Orange"
      ],
      "metadata": {
        "id": "1MF20XTJ_Aa_"
      },
      "execution_count": null,
      "outputs": []
    },
    {
      "cell_type": "code",
      "source": [
        "#importar dados do disco local\n",
        "from google.colab import files  \n",
        "files.upload()"
      ],
      "metadata": {
        "id": "Ygu12JE_Afct"
      },
      "execution_count": null,
      "outputs": []
    },
    {
      "cell_type": "code",
      "source": [
        "#instanciar objeto de dados com base no caminho gerado com a importação do arquivo\n",
        "dados = Orange.data.Table(\"/content/Simulacao-1.csv\")"
      ],
      "metadata": {
        "id": "Uid5eSz5Fiwi"
      },
      "execution_count": null,
      "outputs": []
    },
    {
      "cell_type": "code",
      "source": [
        "#imprimir os primeiros 5 registros\n",
        "for d in dados[:5]:\n",
        "  print(d)"
      ],
      "metadata": {
        "id": "ar06vvffknDu"
      },
      "execution_count": null,
      "outputs": []
    },
    {
      "cell_type": "code",
      "source": [
        "#explorar os metadados\n",
        "qtde_campos = len(dados.domain.attributes)\n",
        "qtde_cont = sum(1 for a in dados.domain.attributes if a.is_continuous)\n",
        "qtde_disc = sum(1 for a in dados.domain.attributes if a.is_discrete)\n",
        "print(\"%d metadados: %d continuos, %d discretos\" % (qtde_campos, qtde_cont, qtde_disc))\n",
        "print(\"Nome dos metadados:\", \", \".join(dados.domain.attributes[i].name for i in range(qtde_campos)),)"
      ],
      "metadata": {
        "id": "H5nbZkd6rDHS"
      },
      "execution_count": null,
      "outputs": []
    },
    {
      "cell_type": "code",
      "source": [
        "#explorar domínios\n",
        "dados.domain.attributes"
      ],
      "metadata": {
        "id": "J5VmTPgks2w5"
      },
      "execution_count": null,
      "outputs": []
    },
    {
      "cell_type": "code",
      "source": [
        "#explorar classe\n",
        "dados.domain.class_var"
      ],
      "metadata": {
        "id": "I3P5bR1Bts-m"
      },
      "execution_count": null,
      "outputs": []
    },
    {
      "cell_type": "code",
      "source": [
        "#explorar dados\n",
        "print(\"Campos:\", \", \".join(c.name for c in dados.domain.attributes))\n",
        "print(\"Registros:\", len(dados))\n",
        "print(\"Valor do registro 1 da coluna 1:\", dados[0][0])\n",
        "print(\"Valor do registro 2 da coluna 2:\", dados[1][1])"
      ],
      "metadata": {
        "id": "g36bj2VTuNXm"
      },
      "execution_count": null,
      "outputs": []
    },
    {
      "cell_type": "code",
      "source": [
        "#criar amostra\n",
        "qtde100 = len(dados)\n",
        "qtde70 = len(dados) * 70 / 100\n",
        "qtde30 = len(dados) * 30 / 100\n",
        "print(\"Qtde 100%:\", qtde100)\n",
        "print(\"Qtde  70%:\", qtde70)\n",
        "print(\"Qtde  30%:\", qtde30)\n",
        "amostra = Orange.data.Table(dados.domain, [d for d in dados if d.row_index < qtde70])\n",
        "print(\"Registros:\", len(dados))\n",
        "print(\"Registros:\", len(amostra))"
      ],
      "metadata": {
        "id": "Ds75Qk7vusPK"
      },
      "execution_count": null,
      "outputs": []
    },
    {
      "cell_type": "code",
      "source": [
        "#Técnica Support Vector Machine (SVM)\n",
        "svm = Orange.classification.SVMLearner(C=1.0, kernel='rbf', degree=3, gamma='auto', coef0=0.0, shrinking=True, probability=False, tol=0.001, cache_size=200, max_iter=-1, preprocessors=None)"
      ],
      "metadata": {
        "id": "RbAJ44FgLM00"
      },
      "execution_count": null,
      "outputs": []
    },
    {
      "cell_type": "code",
      "source": [
        "#ligar técnica SVM aos dados\n",
        "dados_svm = svm(dados)"
      ],
      "metadata": {
        "id": "bmlBAnbmMKd-"
      },
      "execution_count": null,
      "outputs": []
    },
    {
      "cell_type": "code",
      "source": [
        "#treinar e testar técnica SVM com os dados\n",
        "avalia_svm = Orange.evaluation.CrossValidation(dados, [svm], k=5)"
      ],
      "metadata": {
        "id": "_vNTaCAHS5bk"
      },
      "execution_count": null,
      "outputs": []
    },
    {
      "cell_type": "code",
      "source": [
        "#avaliar os indicadores para o SVM\n",
        "print(\"Acurácia:  %.3f\" % Orange.evaluation.scoring.CA(avalia_svm)[0])\n",
        "print(\"Precisão:  %.3f\" % Orange.evaluation.scoring.Precision(avalia_svm)[0])\n",
        "print(\"Revocação: %.3f\" % Orange.evaluation.scoring.Recall(avalia_svm)[0])\n",
        "print(\"F1:        %.3f\" % Orange.evaluation.scoring.F1(avalia_svm)[0])\n",
        "print(\"ROC:       %.3f\" % Orange.evaluation.scoring.AUC(avalia_svm)[0])"
      ],
      "metadata": {
        "id": "dtxG4yrDTAtv"
      },
      "execution_count": null,
      "outputs": []
    },
    {
      "cell_type": "code",
      "source": [
        "#comparar a técnica SVM com outras 2 técnicas\n",
        "rf = Orange.classification.RandomForestLearner(n_estimators=10, criterion='gini', max_depth=None, min_samples_split=2, min_samples_leaf=1, min_weight_fraction_leaf=0.0, max_features='auto', max_leaf_nodes=None, bootstrap=True, oob_score=False, n_jobs=1, random_state=None, verbose=0, class_weight=None, preprocessors=None)\n",
        "knn = Orange.classification.KNNLearner(n_neighbors=5, metric='euclidean', weights='distance', algorithm='auto', metric_params=None, preprocessors=None)\n",
        "dados_rf = rf(dados)\n",
        "dados_knn = knn(dados)\n",
        "aprendizado = [svm, rf, knn]\n",
        "avaliacao = Orange.evaluation.CrossValidation(dados, aprendizado, k=5)"
      ],
      "metadata": {
        "id": "ihR-hUDCazin"
      },
      "execution_count": null,
      "outputs": []
    },
    {
      "cell_type": "code",
      "source": [
        "#imprimir os indicadores para as 3 técnicas\n",
        "print(\" \" * 10 + \" | \".join(\"%-4s\" % learner.name for learner in aprendizado))\n",
        "print(\"Acurácia  %s\" % \" | \".join(\"%.2f\" % s for s in Orange.evaluation.CA(avaliacao)))\n",
        "print(\"Precisão  %s\" % \" | \".join(\"%.2f\" % s for s in Orange.evaluation.Precision(avaliacao)))\n",
        "print(\"Revocação %s\" % \" | \".join(\"%.2f\" % s for s in Orange.evaluation.Recall(avaliacao)))\n",
        "print(\"F1        %s\" % \" | \".join(\"%.2f\" % s for s in Orange.evaluation.F1(avaliacao)))\n",
        "print(\"ROC       %s\" % \" | \".join(\"%.2f\" % s for s in Orange.evaluation.AUC(avaliacao)))"
      ],
      "metadata": {
        "id": "MQn6ppBIfamY"
      },
      "execution_count": null,
      "outputs": []
    }
  ]
}